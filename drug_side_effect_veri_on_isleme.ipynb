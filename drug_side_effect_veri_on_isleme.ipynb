{
  "nbformat": 4,
  "nbformat_minor": 0,
  "metadata": {
    "colab": {
      "provenance": [],
      "authorship_tag": "ABX9TyNssd4nSaR2G+l76AXdNgWZ",
      "include_colab_link": true
    },
    "kernelspec": {
      "name": "python3",
      "display_name": "Python 3"
    },
    "language_info": {
      "name": "python"
    }
  },
  "cells": [
    {
      "cell_type": "markdown",
      "metadata": {
        "id": "view-in-github",
        "colab_type": "text"
      },
      "source": [
        "<a href=\"https://colab.research.google.com/github/Akifsula/Pusula_Akif_Emre_Sula/blob/main/drug_side_effect_veri_on_isleme.ipynb\" target=\"_parent\"><img src=\"https://colab.research.google.com/assets/colab-badge.svg\" alt=\"Open In Colab\"/></a>"
      ]
    },
    {
      "cell_type": "markdown",
      "source": [
        "<h1 style=\"text-align: center;\">Drug Side Effect Data Preprocessing 💊</h1>"
      ],
      "metadata": {
        "id": "ZowcRvZLAl-V"
      }
    },
    {
      "cell_type": "markdown",
      "source": [
        "Bu notebookta veri ön işleme (data preprocessing) yaparak elimizdeki veriyi temizleyip, modellemeye hazır hale getireceğim. Bu aşama; eksik verilerle başa çıkma, kategorik değişkenleri kodlama, sayısal özellikleri normalleştirme veya standartlaştırma ve veri kalitesi sorunlarını çözmeyi içerir.\n",
        "Amacım veri setini dengeli bir hale getirip makine öğrenmesi modellerinin daha yüksek başarım vermesini sağlamaktır."
      ],
      "metadata": {
        "id": "MvnUsSj0BIT5"
      }
    },
    {
      "cell_type": "code",
      "source": [
        "# Gerekli kütüphaneleri içe aktarıyorum.\n",
        "import numpy as np  # Sayısal işlemler\n",
        "import pandas as pd  # Veri manipülasyonu\n",
        "import seaborn as sns  # Görselleştirme\n",
        "import matplotlib.pyplot as plt  # Görselleştirme\n",
        "from itertools import combinations  # Olası kombinasyon hesabı\n",
        "import random  # Rastgele değerler\n",
        "from IPython.display import display  # Dataframe\n",
        "import difflib  # Karşılaştırma & benzerlik\n",
        "from collections import Counter  # Sayma işlemleri\n",
        "\n",
        "from sklearn.preprocessing import LabelEncoder  # Kategorik değişkenleri kodlama\n",
        "from sklearn.impute import KNNImputer  # Eksik değer atama\n",
        "\n",
        "# Görsel çıktılarındaki Python uyarı mesajlarını kapatıyorum.\n",
        "import warnings\n",
        "warnings.filterwarnings('ignore')"
      ],
      "metadata": {
        "id": "ayq75j1cCplr"
      },
      "execution_count": 34,
      "outputs": []
    },
    {
      "cell_type": "code",
      "source": [
        "# Veri setimi içeri aktarıyorum.\n",
        "file_path = 'side_effect_data 1.xlsx'\n",
        "\n",
        "veri = pd.read_excel(file_path)"
      ],
      "metadata": {
        "id": "eGCdLtvgC174"
      },
      "execution_count": 4,
      "outputs": []
    },
    {
      "cell_type": "code",
      "source": [
        "# Orijinal veri setinin yapısını korumak için copy() metotu ile veri setinin yedeğini alıyorum.\n",
        "df = veri.copy()"
      ],
      "metadata": {
        "id": "9YuQG_yjDrdn"
      },
      "execution_count": 6,
      "outputs": []
    },
    {
      "cell_type": "markdown",
      "source": [
        "**Gereksiz Öznitelik**\n",
        "\n",
        "İlk ele alacağım işlem EDA aşamasında da söylediğim gibi \"Uyruk\" kategorisi.Bu kategorideki tüm değerler aynı olduğu için, bu öznitelik modelin öğrenmesine katkıda bulunmayacaktır. Bu tür öznitelikler modelleme aşamasında herhangi bir bilgi sunmadığından, veri ön işleme aşamasında bu kategoriyi kaldırmak en uygun yaklaşım olacaktır."
      ],
      "metadata": {
        "id": "MpE6g2qBKxbK"
      }
    },
    {
      "cell_type": "code",
      "source": [
        "# 'Uyruk' kolonunu kaldır\n",
        "df = df.drop(columns=['Uyruk'])"
      ],
      "metadata": {
        "id": "JUHDHtSdLLIe"
      },
      "execution_count": 7,
      "outputs": []
    },
    {
      "cell_type": "markdown",
      "source": [
        "**Kategori İsimleri**\n",
        "\n",
        "Kategori isimlerini veri ön işleme aşamasında tutarlı bir biçimde güncellemenin iyi bir yaklaşım olacağını düşünüyorum. Bu, özellikle daha büyük projelerde ve veri işleme adımlarında isimlendirme tutarsızlıklarından kaynaklanan hataların önüne geçecektir. Belirli bir format (örneğin, alt çizgi kullanmak ve küçük harflerle yazmak) hem kodun okunabilirliğini artırır hem de sonraki adımlarda işlemleri kolaylaştırır."
      ],
      "metadata": {
        "id": "gA9OFg28LvCy"
      }
    },
    {
      "cell_type": "code",
      "source": [
        "# Bu kod tüm sütun adlarını küçük harfe çevirip boşlukları alt çizgiyle değiştirir.\n",
        "df.columns = df.columns.str.lower().str.replace(' ', '_')\n"
      ],
      "metadata": {
        "id": "wKavUdyRM8kG"
      },
      "execution_count": 12,
      "outputs": []
    },
    {
      "cell_type": "markdown",
      "source": [
        "Bazı kategori isimlerinin modelleme için çok uzun olduğunu düşündüm. Bu yüzden birkaçında güncellemeler yapmak istiyorum."
      ],
      "metadata": {
        "id": "om6AtwSeOPRg"
      }
    },
    {
      "cell_type": "code",
      "source": [
        "# Sadece belirli sütun isimlerini değiştirmek için bir sözlük oluşturalım\n",
        "updated_column_names = {\n",
        "    'baba_kronik_hastaliklari': 'baba_kronik_hast',\n",
        "    'anne_kronik_hastaliklari': 'anne_kronik_hast',\n",
        "    'kiz_kardes_kronik_hastaliklari': 'kiz_kar_kronik_hast',\n",
        "    'erkek_kardes_kronik_hastaliklari': 'erkek_kar_kronik_hast',\n",
        "    'yan_etki_bildirim_tarihi': 'yan_etki_bild_tar'\n",
        "}\n",
        "\n",
        "# Sadece belirli sütun isimlerini güncelleyelim\n",
        "df.rename(columns=updated_column_names, inplace=True)"
      ],
      "metadata": {
        "id": "bEvJHWNhO6vp"
      },
      "execution_count": 14,
      "outputs": []
    },
    {
      "cell_type": "code",
      "source": [
        "# Yaptığım kategori değişikliklerini kontrol etmek için\n",
        "print(df.columns)"
      ],
      "metadata": {
        "colab": {
          "base_uri": "https://localhost:8080/"
        },
        "id": "3T3T80-mNNCs",
        "outputId": "1bd42a8e-09af-44c7-9dfd-681d973c4478"
      },
      "execution_count": 15,
      "outputs": [
        {
          "output_type": "stream",
          "name": "stdout",
          "text": [
            "Index(['kullanici_id', 'cinsiyet', 'dogum_tarihi', 'il', 'ilac_adi',\n",
            "       'ilac_baslangic_tarihi', 'ilac_bitis_tarihi', 'yan_etki',\n",
            "       'yan_etki_bild_tar', 'alerjilerim', 'kronik_hastaliklarim',\n",
            "       'baba_kronik_hast', 'anne_kronik_hast', 'kiz_kar_kronik_hast',\n",
            "       'erkek_kar_kronik_hast', 'kan_grubu', 'kilo', 'boy'],\n",
            "      dtype='object')\n"
          ]
        }
      ]
    },
    {
      "cell_type": "markdown",
      "source": [
        "**Tarih Değerleri**\n",
        "\n",
        "Tarih bilgisi içeren kategorilerdeki aşırı ayrıntıların (saat, dakika, saniye gibi) modelin karmaşıklığını artırabileceğini tespit etmiştim. Özellikle saat bilgisi gibi bileşenlerin modelleme aşamasında genellikle anlamlı bir katkı sağlamadığı durumlarda bu ayrıntıları çıkarmak, daha basit ve verimli bir model elde etmenize yardımcı olabilir."
      ],
      "metadata": {
        "id": "YLFBWrfbRlY8"
      }
    },
    {
      "cell_type": "code",
      "source": [
        "# 'yan_etki_bild_tar' sütunundaki saat, dakika ve saniye bilgilerini çıkararak yalnızca tarih kısmını tutalım\n",
        "df['yan_etki_bild_tar'] = df['yan_etki_bild_tar'].dt.date\n",
        "\n",
        "# Eski verilerle karşılaştırma yapmak için:\n",
        "print(df['yan_etki_bild_tar'].head())\n",
        "print(veri['Yan_Etki_Bildirim_Tarihi'].tail())"
      ],
      "metadata": {
        "colab": {
          "base_uri": "https://localhost:8080/"
        },
        "id": "7nKsXbXqVa7i",
        "outputId": "d08d0bc8-2a22-48ac-f372-c08644789d76"
      },
      "execution_count": 20,
      "outputs": [
        {
          "output_type": "stream",
          "name": "stdout",
          "text": [
            "0    2022-02-19\n",
            "1    2022-02-03\n",
            "2    2022-02-04\n",
            "3    2022-02-08\n",
            "4    2022-02-12\n",
            "Name: yan_etki_bild_tar, dtype: object\n",
            "2352   2022-02-12 19:13:43\n",
            "2353   2022-02-19 17:39:48\n",
            "2354   2022-02-03 20:48:17\n",
            "2355   2022-02-04 05:29:20\n",
            "2356   2022-02-17 07:08:01\n",
            "Name: Yan_Etki_Bildirim_Tarihi, dtype: datetime64[ns]\n"
          ]
        }
      ]
    },
    {
      "cell_type": "markdown",
      "source": [
        "**Uzun Ve Tekrarlayan İlaç İsimlerine Çözüm**\n",
        "\n",
        "Detaylı analizler ve gerçek dünya araştırmalarından çıkardığım bulgularla ilac_adi kategorisindeki verilerin bazılarının aynı ilaca ait farklı formlar, farklı yazılışlar ya da daha uzun adlandırmalardan oluştuğunu gördüm. (Örneğin: \"divalproex sodium\", \"divalproeks sodyum er\", \"divalproex sodium capsule, sprinkle\" öznelerinin hepsi aynı etken maddeye ait ilacın farklı formları.) Tüm  ilaç isimlerini teker teker ayrıştırıp kategorize etmek çok kompleks kütüphaneler ve çeşitli işlemler gerektirdiği için ve aynı zamanda veri kaybı riski de oluşturacağından çözüm olarak ilac_adi sütunundaki tüm ilaç isimlerinin yalnızca ilk iki kelimesini almaya karar verdim. Çünkü fark ettim ki ilaçların hepsi ana ilaç adıyla başlayıp formuna ya da kullanım şekline göre türetiliyor. Yani ilk iki kelimesi o kategori için kesinlikle ayırt edici oluyor. İşte bunu gerçekleştiren basit kod parçacığı:\n",
        "\n"
      ],
      "metadata": {
        "id": "INF6RRy4DnmB"
      }
    },
    {
      "cell_type": "code",
      "source": [
        "# İlk iki kelimeyi almak için ilac_adi kategorisini güncelle\n",
        "df['ilac_adi'] = df['ilac_adi'].apply(lambda x: ' '.join(x.split()[:2]))\n",
        "df['ilac_adi'].head(10)"
      ],
      "metadata": {
        "colab": {
          "base_uri": "https://localhost:8080/",
          "height": 398
        },
        "id": "t38RDh1TFtvV",
        "outputId": "3ffab05e-97ea-4410-d41b-c7a7ba0d0613"
      },
      "execution_count": 28,
      "outputs": [
        {
          "output_type": "execute_result",
          "data": {
            "text/plain": [
              "0           trifluoperazine\n",
              "1          fluphenazine hcl\n",
              "2           warfarin sodium\n",
              "3             valproic acid\n",
              "4    carbamazepine extended\n",
              "5             fluoxetine dr\n",
              "6    carbamazepine extended\n",
              "7               thiothixene\n",
              "8         asenapine tablet,\n",
              "9          fluphenazine hcl\n",
              "Name: ilac_adi, dtype: object"
            ],
            "text/html": [
              "<div>\n",
              "<style scoped>\n",
              "    .dataframe tbody tr th:only-of-type {\n",
              "        vertical-align: middle;\n",
              "    }\n",
              "\n",
              "    .dataframe tbody tr th {\n",
              "        vertical-align: top;\n",
              "    }\n",
              "\n",
              "    .dataframe thead th {\n",
              "        text-align: right;\n",
              "    }\n",
              "</style>\n",
              "<table border=\"1\" class=\"dataframe\">\n",
              "  <thead>\n",
              "    <tr style=\"text-align: right;\">\n",
              "      <th></th>\n",
              "      <th>ilac_adi</th>\n",
              "    </tr>\n",
              "  </thead>\n",
              "  <tbody>\n",
              "    <tr>\n",
              "      <th>0</th>\n",
              "      <td>trifluoperazine</td>\n",
              "    </tr>\n",
              "    <tr>\n",
              "      <th>1</th>\n",
              "      <td>fluphenazine hcl</td>\n",
              "    </tr>\n",
              "    <tr>\n",
              "      <th>2</th>\n",
              "      <td>warfarin sodium</td>\n",
              "    </tr>\n",
              "    <tr>\n",
              "      <th>3</th>\n",
              "      <td>valproic acid</td>\n",
              "    </tr>\n",
              "    <tr>\n",
              "      <th>4</th>\n",
              "      <td>carbamazepine extended</td>\n",
              "    </tr>\n",
              "    <tr>\n",
              "      <th>5</th>\n",
              "      <td>fluoxetine dr</td>\n",
              "    </tr>\n",
              "    <tr>\n",
              "      <th>6</th>\n",
              "      <td>carbamazepine extended</td>\n",
              "    </tr>\n",
              "    <tr>\n",
              "      <th>7</th>\n",
              "      <td>thiothixene</td>\n",
              "    </tr>\n",
              "    <tr>\n",
              "      <th>8</th>\n",
              "      <td>asenapine tablet,</td>\n",
              "    </tr>\n",
              "    <tr>\n",
              "      <th>9</th>\n",
              "      <td>fluphenazine hcl</td>\n",
              "    </tr>\n",
              "  </tbody>\n",
              "</table>\n",
              "</div><br><label><b>dtype:</b> object</label>"
            ]
          },
          "metadata": {},
          "execution_count": 28
        }
      ]
    },
    {
      "cell_type": "markdown",
      "source": [
        "# Eksik Değerlerle Başa Çıkma"
      ],
      "metadata": {
        "id": "HABsqjpzWl38"
      }
    },
    {
      "cell_type": "markdown",
      "source": [
        "**Cinsiyet Kategorisi**\n",
        "\n",
        "Bu kategorideki eksik değerleri doldururken sırasıyla şu işlemleri yapmayı ve şu analizleri referans almayı düşünüyorum:\n",
        "\n",
        "\n",
        "1.   İlk olarak hem cinsiyeti hem de boy bilgisi olmayan hastaları tespit edip bu hastaların cinsiyet bilgilerini EDA aşamasında oluşturduğum yan etki ve cinsiyet arasındaki ısı haritasından aldığım verilere göre dolduracağım (yan_etkiler kategorisinde Gec Bosalma, Istah Artisi, Uykululuk Hali verilerinden herhangi biri varsa Female değeri atanacak. yan_etkiler kategorisinde Carpinti, Kabizlik, Terleme verilerinden herhangi biri varsa Male değeri atanacak.  Eğer hem cinsiyeti eksik hem boyu eksik hem de yan_etkiler kategorisinde bu saydığım verilerden farklı bir değer varsa o zaman cinsiyet değerine en çok tekrar eden veriye göre Male ya da Female atanacak.)\n",
        "2.   Eğer hastanın sadece Cinsiyet bilgisi eksikse (Boy bilgisi varsa) 170 boyunun üzerinde olan kayıtların cinsiyet bilgisini Male, 170 boyunun altında olan kayıtların cinsiyet bilgisini Female olarak atayacağım.\n",
        "3.   Sütundaki tüm kayıtlar dolu hale geldikten sonra dil bütünlüğünü sağlamak ve modelleme yaparken kolaylık oluşması adına Male değerlerine E harfi (Erkek), Female değerlerine K harfi (Kadın) atayacağım.\n",
        "\n"
      ],
      "metadata": {
        "id": "yO_6o9oAW7Ug"
      }
    },
    {
      "cell_type": "code",
      "source": [
        "# Cinsiyet ve Boy bilgisi eksik olan hastaları tespit etme\n",
        "missing_gender_height = df[df['cinsiyet'].isnull() & df['boy'].isnull()]\n",
        "\n",
        "# Yan etkiler kategorisine göre cinsiyet atama\n",
        "def fill_gender_based_on_side_effects(row):\n",
        "    if any(effect in row['yan_etki'] for effect in ['Gec Bosalma', 'Istah Artisi', 'Uykululuk Hali']):\n",
        "        return 'Female'  # Kız\n",
        "    elif any(effect in row['yan_etki'] for effect in ['Carpinti', 'Kabizlik', 'Terleme']):\n",
        "        return 'Male'  # Erkek\n",
        "    else:\n",
        "        return df['cinsiyet'].mode()[0]  # En sık tekrarlayan değeri atama\n",
        "\n",
        "# Eksik cinsiyet bilgisi olan hastalara cinsiyet atama\n",
        "df.loc[missing_gender_height.index, 'cinsiyet'] = missing_gender_height.apply(fill_gender_based_on_side_effects, axis=1)\n"
      ],
      "metadata": {
        "id": "i3N_jKcsgKlc"
      },
      "execution_count": 21,
      "outputs": []
    },
    {
      "cell_type": "code",
      "source": [
        "# Sadece cinsiyet bilgisi eksik olan hastaları tespit etme\n",
        "missing_gender = df[df['cinsiyet'].isnull() & df['boy'].notnull()]\n",
        "\n",
        "# Boy bilgisine göre cinsiyet atama\n",
        "df.loc[missing_gender[missing_gender['boy'] > 170].index, 'cinsiyet'] = 'Male'  # Erkek\n",
        "df.loc[missing_gender[missing_gender['boy'] <= 170].index, 'cinsiyet'] = 'Female'  # Kız\n"
      ],
      "metadata": {
        "id": "LaNLJW-NgbzP"
      },
      "execution_count": 22,
      "outputs": []
    },
    {
      "cell_type": "code",
      "source": [
        "# Tüm kayıtların dolu olduğundan emin olalım\n",
        "print(df['cinsiyet'].isnull().sum())  # Null değer sayısını kontrol et\n"
      ],
      "metadata": {
        "colab": {
          "base_uri": "https://localhost:8080/"
        },
        "id": "6bzP8ehvgekv",
        "outputId": "d7bd263f-c9fd-47ba-960c-45a7176b3c4e"
      },
      "execution_count": 23,
      "outputs": [
        {
          "output_type": "stream",
          "name": "stdout",
          "text": [
            "0\n"
          ]
        }
      ]
    },
    {
      "cell_type": "code",
      "source": [
        "# Cinsiyet değerlerini güncelle\n",
        "df['cinsiyet'] = df['cinsiyet'].replace({'Male': 'E', 'Female': 'K'})\n",
        "df['cinsiyet'].head()"
      ],
      "metadata": {
        "colab": {
          "base_uri": "https://localhost:8080/",
          "height": 241
        },
        "id": "iD06EvyOgoMQ",
        "outputId": "45249cb5-a168-45b6-d7de-6aae8384127b"
      },
      "execution_count": 24,
      "outputs": [
        {
          "output_type": "execute_result",
          "data": {
            "text/plain": [
              "0    E\n",
              "1    E\n",
              "2    K\n",
              "3    E\n",
              "4    K\n",
              "Name: cinsiyet, dtype: object"
            ],
            "text/html": [
              "<div>\n",
              "<style scoped>\n",
              "    .dataframe tbody tr th:only-of-type {\n",
              "        vertical-align: middle;\n",
              "    }\n",
              "\n",
              "    .dataframe tbody tr th {\n",
              "        vertical-align: top;\n",
              "    }\n",
              "\n",
              "    .dataframe thead th {\n",
              "        text-align: right;\n",
              "    }\n",
              "</style>\n",
              "<table border=\"1\" class=\"dataframe\">\n",
              "  <thead>\n",
              "    <tr style=\"text-align: right;\">\n",
              "      <th></th>\n",
              "      <th>cinsiyet</th>\n",
              "    </tr>\n",
              "  </thead>\n",
              "  <tbody>\n",
              "    <tr>\n",
              "      <th>0</th>\n",
              "      <td>E</td>\n",
              "    </tr>\n",
              "    <tr>\n",
              "      <th>1</th>\n",
              "      <td>E</td>\n",
              "    </tr>\n",
              "    <tr>\n",
              "      <th>2</th>\n",
              "      <td>K</td>\n",
              "    </tr>\n",
              "    <tr>\n",
              "      <th>3</th>\n",
              "      <td>E</td>\n",
              "    </tr>\n",
              "    <tr>\n",
              "      <th>4</th>\n",
              "      <td>K</td>\n",
              "    </tr>\n",
              "  </tbody>\n",
              "</table>\n",
              "</div><br><label><b>dtype:</b> object</label>"
            ]
          },
          "metadata": {},
          "execution_count": 24
        }
      ]
    },
    {
      "cell_type": "markdown",
      "source": [
        "**Dikkat ❗**\n",
        "\n",
        "EDA aşamasasında aynı id numarasına sahip bir hastanın birden fazla kaydının olduğu örneklerin veri setinde bulunduğunu Analiz etmiştim. Dolayısıyla aynı hastaya başka bir tarihte farklı bir yan etki bulgusu yapılabileceği ihtimalini ve bu ihtimal sonucu cinsiyetinin farklı girilebilme durumunu göz önüne almamız gerekiyor. Bunun gibi istisnaların modellemedeki başarı oranını düşürmemesi ve tutarsızlığa yol açmaması için gerekli kontrolleri yapan kodları yazarak Cinsiyet kategorisiyle alakalı işlemlerimizi tamamen bitirmiş olalım."
      ],
      "metadata": {
        "id": "tWYoQ8-Nmj74"
      }
    },
    {
      "cell_type": "code",
      "source": [
        "# Kontrol edilecek sütunlar\n",
        "kontrol_sutunlari = ['cinsiyet']\n",
        "\n",
        "for sutun in kontrol_sutunlari:\n",
        "    # Kullanici_id'si aynı olan kayıtları gruplandır\n",
        "    kontrol = df.groupby('kullanici_id')[sutun].nunique()\n",
        "\n",
        "    # Farklı değer sayısı 1 olanları al\n",
        "    farkli_degerler = kontrol[kontrol > 1]\n",
        "\n",
        "    # Sonuçları göster\n",
        "    if not farkli_degerler.empty:\n",
        "        print(f\"Aynı Kullanici_id'ye sahip, farklı {sutun} bilgileri bulunan kayıtlar var:\")\n",
        "        print(farkli_degerler)\n",
        "        print(f\"Farklı sonuç sayısı: {len(farkli_degerler)}\")  # Farklı sonuç sayısını göster\n",
        "    else:\n",
        "        print(f\"Tüm Kullanici_id'leri için {sutun} bilgileri aynı.\")\n",
        "\n",
        "# Farklı cinsiyet bilgileri bulunan kullanıcı ID'leri\n",
        "for kullanici_id in farkli_degerler.index:\n",
        "    # Aynı kullanıcı ID'sine sahip kayıtları al\n",
        "    cinsiyet_bilgileri = df[df['kullanici_id'] == kullanici_id][['kullanici_id', 'cinsiyet']]\n",
        "    print(f\"{kullanici_id} için cinsiyet bilgileri:\")\n",
        "    print(cinsiyet_bilgileri)\n",
        "    print()  # Yeni bir satır ekle\n"
      ],
      "metadata": {
        "colab": {
          "base_uri": "https://localhost:8080/"
        },
        "id": "aNGE_hxJn7_w",
        "outputId": "9076d888-5c74-43d1-f9e4-1a5357cf7e1b"
      },
      "execution_count": 25,
      "outputs": [
        {
          "output_type": "stream",
          "name": "stdout",
          "text": [
            "Aynı Kullanici_id'ye sahip, farklı cinsiyet bilgileri bulunan kayıtlar var:\n",
            "kullanici_id\n",
            "37     2\n",
            "112    2\n",
            "137    2\n",
            "Name: cinsiyet, dtype: int64\n",
            "Farklı sonuç sayısı: 3\n",
            "37 için cinsiyet bilgileri:\n",
            "      kullanici_id cinsiyet\n",
            "160             37        K\n",
            "281             37        K\n",
            "789             37        K\n",
            "918             37        E\n",
            "1209            37        K\n",
            "1231            37        K\n",
            "1616            37        K\n",
            "1746            37        K\n",
            "1798            37        K\n",
            "1818            37        K\n",
            "1891            37        K\n",
            "1932            37        K\n",
            "2273            37        K\n",
            "2340            37        K\n",
            "\n",
            "112 için cinsiyet bilgileri:\n",
            "      kullanici_id cinsiyet\n",
            "112            112        K\n",
            "477            112        E\n",
            "573            112        K\n",
            "612            112        K\n",
            "992            112        K\n",
            "1194           112        E\n",
            "1732           112        K\n",
            "2199           112        K\n",
            "2348           112        K\n",
            "\n",
            "137 için cinsiyet bilgileri:\n",
            "      kullanici_id cinsiyet\n",
            "223            137        K\n",
            "610            137        K\n",
            "833            137        K\n",
            "963            137        E\n",
            "996            137        K\n",
            "1442           137        K\n",
            "1520           137        K\n",
            "1667           137        E\n",
            "2000           137        K\n",
            "2022           137        E\n",
            "2046           137        K\n",
            "2115           137        K\n",
            "2310           137        K\n",
            "\n"
          ]
        }
      ]
    },
    {
      "cell_type": "markdown",
      "source": [
        "Gördüğümüz gibi gerçekten de istisnai durumlar gerçekleşmiş. Bu durumda id si aynı olan hastaların kayıtlarında kendi içerisinde en sık görülen cinsiyet değerini atayarak tutarsızlıkların önüne geçip tek bir cinsiyete indirgeyebilirim."
      ],
      "metadata": {
        "id": "zij36Sd1oTBP"
      }
    },
    {
      "cell_type": "code",
      "source": [
        "# Aynı Kullanici_id'ye sahip farklı cinsiyet bilgilerini düzelt\n",
        "for kullanici_id in df['kullanici_id'].unique():\n",
        "    # Kullanıcıya ait kayıtları al\n",
        "    user_records = df[df['kullanici_id'] == kullanici_id]\n",
        "\n",
        "    if user_records['cinsiyet'].nunique() > 1:\n",
        "        # En sık görülen cinsiyet değerini bul\n",
        "        most_common_gender = user_records['cinsiyet'].mode()[0]\n",
        "\n",
        "        # Tüm kayıtları bu değerle güncelle\n",
        "        df.loc[df['kullanici_id'] == kullanici_id, 'cinsiyet'] = most_common_gender"
      ],
      "metadata": {
        "id": "fMLI9rpToDtx"
      },
      "execution_count": 26,
      "outputs": []
    },
    {
      "cell_type": "markdown",
      "source": [
        "Kontrol kodumu tekrar çalıştırarak sorunu düzeltip düzeltemediğimi görmek istiyorum."
      ],
      "metadata": {
        "id": "UxX1b-kzo-9N"
      }
    },
    {
      "cell_type": "code",
      "source": [
        "# Kontrol edilecek sütunlar\n",
        "kontrol_sutunlari = ['cinsiyet']\n",
        "\n",
        "for sutun in kontrol_sutunlari:\n",
        "    # Kullanici_id'si aynı olan kayıtları gruplandır\n",
        "    kontrol = df.groupby('kullanici_id')[sutun].nunique()\n",
        "\n",
        "    # Farklı değer sayısı 1 olanları al\n",
        "    farkli_degerler = kontrol[kontrol > 1]\n",
        "\n",
        "    # Sonuçları göster\n",
        "    if not farkli_degerler.empty:\n",
        "        print(f\"Aynı Kullanici_id'ye sahip, farklı {sutun} bilgileri bulunan kayıtlar var:\")\n",
        "        print(farkli_degerler)\n",
        "        print(f\"Farklı sonuç sayısı: {len(farkli_degerler)}\")  # Farklı sonuç sayısını göster\n",
        "    else:\n",
        "        print(f\"Tüm Kullanici_id'leri için {sutun} bilgileri aynı.\")\n",
        "\n",
        "# Farklı cinsiyet bilgileri bulunan kullanıcı ID'leri\n",
        "for kullanici_id in farkli_degerler.index:\n",
        "    # Aynı kullanıcı ID'sine sahip kayıtları al\n",
        "    cinsiyet_bilgileri = df[df['kullanici_id'] == kullanici_id][['kullanici_id', 'cinsiyet']]\n",
        "    print(f\"{kullanici_id} için cinsiyet bilgileri:\")\n",
        "    print(cinsiyet_bilgileri)\n",
        "    print()  # Yeni bir satır ekle"
      ],
      "metadata": {
        "colab": {
          "base_uri": "https://localhost:8080/"
        },
        "id": "j38OQKOHoMUk",
        "outputId": "3ff707fe-fe6f-4ae7-bac3-838ec70205ad"
      },
      "execution_count": 27,
      "outputs": [
        {
          "output_type": "stream",
          "name": "stdout",
          "text": [
            "Tüm Kullanici_id'leri için cinsiyet bilgileri aynı.\n"
          ]
        }
      ]
    },
    {
      "cell_type": "markdown",
      "source": [
        "Sorunun düzeldiğini gördüm. Bir sonraki eksik verileri doldurma aşamalarında ileride veri kaybı yaşamamak için tekrarlayan satırlar için doldurmadan önce önlem alacağım ve istisnai durumları önceden hesaba katacağım."
      ],
      "metadata": {
        "id": "2ANP4_mnp64P"
      }
    },
    {
      "cell_type": "markdown",
      "source": [
        "**İl Kategorisi**\n",
        "\n",
        "il kategorisindeki eksik değerlerin tümünü en çok tekrar eden \"Adana\" değeriyle doldurmaya karar verdim. Burda cinsiyet örneği için ekstra bir kontrol durumuna gerek yok çünkü il değeri null olan tüm id numaraları için aynı değer atanacak."
      ],
      "metadata": {
        "id": "mZ1HvG7pwEv7"
      }
    },
    {
      "cell_type": "code",
      "source": [
        "# Tüm il değerleri için en sık geçen değeri bul\n",
        "en_sik_il = df['il'].mode()[0]\n",
        "\n",
        "# Eksik il değerlerini bu değerle doldur\n",
        "df['il'] = df['il'].fillna(en_sik_il)\n",
        "\n",
        "# Son durumu kontrol et\n",
        "print(df['il'].isnull().sum(), \"adet eksik il değeri kaldı.\")\n"
      ],
      "metadata": {
        "colab": {
          "base_uri": "https://localhost:8080/"
        },
        "id": "wO08VJrzwksZ",
        "outputId": "0653abe4-9089-48cf-f446-57193951a71d"
      },
      "execution_count": 38,
      "outputs": [
        {
          "output_type": "stream",
          "name": "stdout",
          "text": [
            "0 adet eksik il değeri kaldı.\n"
          ]
        }
      ]
    },
    {
      "cell_type": "markdown",
      "source": [
        "**İlaç Adı ve Alerji ilişkisi**\n",
        "\n",
        "Bu kısımda ilaçlarda hiç null değer olmadığı için, gerçek hayatta hastalara verilen ilaçlarda da alerjiler göz önüne alındığı için kişiye verilen ilaca göre alerjisi olmayan öge analiz edilip ona göre bir tahminde bulunulabilir.   Yani örnekle açıklamak gerekirse burada tam olarak şu sistemi düşündüm:  mesela alerjilerim kategorisindeki bir satırda ceviz yazıyor. o değerle aynı satırda bulunan ilac_adi kategorisinde trifluoperazine isimli ilaç varsa eğer, cevize alerjisi olan bir insana trifluoperazine isimli ilaç yazılabiliyor demektir. Yani Bir sonraki alerjilerim kategorisinde null değer varsa  ve null değerin bulunduğu satırdaki ilac_adi kategorisinde bulunan değer trifluoperazine ise o null değere ceviz değerini atayabiliriz demek oluyor. Yine de boş değerler kalırsa eğer, o değerlere en çok tekrarlanan alerjilerim değerini atayabiliriz."
      ],
      "metadata": {
        "id": "eP2ko9X9KJoM"
      }
    },
    {
      "cell_type": "markdown",
      "source": [
        "Bu işlem için ilk önce, daha sonra da kullanım kolaylığı sağlaması amacıyla \"ilac_adi\" adlı kategorideki ilaç adlarını **LabelEncoding** yöntemi ile sayısal değerlere dönüştüreceğiz."
      ],
      "metadata": {
        "id": "DQgpHj4FLygM"
      }
    },
    {
      "cell_type": "code",
      "source": [
        "# LabelEncoder ile ilac_adi kategorisini dönüştürme\n",
        "le = LabelEncoder()\n",
        "df['ilac_adi_encoded'] = le.fit_transform(df['ilac_adi'])"
      ],
      "metadata": {
        "id": "9apuMpqBMb7G"
      },
      "execution_count": 30,
      "outputs": []
    },
    {
      "cell_type": "code",
      "source": [
        "# Alerjilerim kategorisindeki null değerleri doldur\n",
        "for index, row in df[df['alerjilerim'].isnull()].iterrows():\n",
        "    ilac_encoded = row['ilac_adi_encoded']\n",
        "\n",
        "    # İlgili ilacın Alerjilerim değerini bul\n",
        "    matching_allergy = df[(df['ilac_adi_encoded'] == ilac_encoded) & (df['alerjilerim'].notnull())]['alerjilerim']\n",
        "\n",
        "    if not matching_allergy.empty:\n",
        "        # Eğer eşleşen alerji varsa, ilk bulduğumuz alerjiyi ata\n",
        "        df.at[index, 'alerjilerim'] = matching_allergy.iloc[0]\n",
        "\n",
        "# Hala eksik kalan değerleri en sık geçen değerle doldur\n",
        "most_frequent_allergy = df['alerjilerim'].mode()[0]\n",
        "df['alerjilerim'].fillna(most_frequent_allergy, inplace=True)\n",
        "\n",
        "# Son durumu kontrol et\n",
        "print(df['alerjilerim'].isnull().sum(), \"adet eksik alerji değeri kaldı.\")\n",
        "df['alerjilerim'].head(10)"
      ],
      "metadata": {
        "colab": {
          "base_uri": "https://localhost:8080/",
          "height": 415
        },
        "id": "AhfS0kFIMu2E",
        "outputId": "ac24dc97-6b0c-422b-c254-a4d5dc5c14a5"
      },
      "execution_count": 32,
      "outputs": [
        {
          "output_type": "stream",
          "name": "stdout",
          "text": [
            "0 adet eksik alerji değeri kaldı.\n"
          ]
        },
        {
          "output_type": "execute_result",
          "data": {
            "text/plain": [
              "0      Ceviz\n",
              "1        Toz\n",
              "2        Muz\n",
              "3     Pancar\n",
              "4     Bugday\n",
              "5    Domates\n",
              "6     Bugday\n",
              "7    Ispanak\n",
              "8     Laktoz\n",
              "9       Elma\n",
              "Name: alerjilerim, dtype: object"
            ],
            "text/html": [
              "<div>\n",
              "<style scoped>\n",
              "    .dataframe tbody tr th:only-of-type {\n",
              "        vertical-align: middle;\n",
              "    }\n",
              "\n",
              "    .dataframe tbody tr th {\n",
              "        vertical-align: top;\n",
              "    }\n",
              "\n",
              "    .dataframe thead th {\n",
              "        text-align: right;\n",
              "    }\n",
              "</style>\n",
              "<table border=\"1\" class=\"dataframe\">\n",
              "  <thead>\n",
              "    <tr style=\"text-align: right;\">\n",
              "      <th></th>\n",
              "      <th>alerjilerim</th>\n",
              "    </tr>\n",
              "  </thead>\n",
              "  <tbody>\n",
              "    <tr>\n",
              "      <th>0</th>\n",
              "      <td>Ceviz</td>\n",
              "    </tr>\n",
              "    <tr>\n",
              "      <th>1</th>\n",
              "      <td>Toz</td>\n",
              "    </tr>\n",
              "    <tr>\n",
              "      <th>2</th>\n",
              "      <td>Muz</td>\n",
              "    </tr>\n",
              "    <tr>\n",
              "      <th>3</th>\n",
              "      <td>Pancar</td>\n",
              "    </tr>\n",
              "    <tr>\n",
              "      <th>4</th>\n",
              "      <td>Bugday</td>\n",
              "    </tr>\n",
              "    <tr>\n",
              "      <th>5</th>\n",
              "      <td>Domates</td>\n",
              "    </tr>\n",
              "    <tr>\n",
              "      <th>6</th>\n",
              "      <td>Bugday</td>\n",
              "    </tr>\n",
              "    <tr>\n",
              "      <th>7</th>\n",
              "      <td>Ispanak</td>\n",
              "    </tr>\n",
              "    <tr>\n",
              "      <th>8</th>\n",
              "      <td>Laktoz</td>\n",
              "    </tr>\n",
              "    <tr>\n",
              "      <th>9</th>\n",
              "      <td>Elma</td>\n",
              "    </tr>\n",
              "  </tbody>\n",
              "</table>\n",
              "</div><br><label><b>dtype:</b> object</label>"
            ]
          },
          "metadata": {},
          "execution_count": 32
        }
      ]
    },
    {
      "cell_type": "markdown",
      "source": [
        "**Kan Grubu Kategorisi**\n",
        "\n",
        "Bu kısımdaki yaptığım işlemleri 2 aşamada inceleyebiliriz:\n",
        "\n",
        "\n",
        "1.   Null değerleri en çok tekrar eden kan grubu değeriyle doldurdum. (AB RH-)\n",
        "2.   **Frequency Encoding**  yöntemiyle, her kategorik değerin veri setinde hangi sıklıkta tekrarlandığını (frekansını) hesapladım. Bu sayede, kategorik veriyi doğrudan bir sayıya dönüştürmek yerine, kategoriye dair bilgiyi frekans temelli sayısal bir değere çeviriyorum.\n",
        "Nasıl Çalışır:\n",
        "Frekansları hesaplama:\n",
        "\n",
        "df['kan_grubu'].value_counts(normalize=True) kısmı, her kategorik değerin ne sıklıkta tekrarlandığını hesaplar ve bu değeri normalize ederek yüzde olarak döner. Yani, örneğin, \"A RH+\" değeri veri setinde 100 kez varsa ve toplam veri sayısı 1000 ise, value_counts(normalize=True) bu kategori için 0.10 (yani %10) değerini döndürür.\n",
        "Frekansları kategoriye atama:\n",
        "\n",
        "df['kan_grubu'].map(kan_grubu_frekansi) kısmı, her kan grubu kategorisini bu frekans değerleriyle eşleştirir. Örneğin, \"A RH+\" kategorisine sahip satırlara karşılık gelen sütun değeri %10 (0.10) olur. Bu işlem tüm kategoriler için yapılır ve sayısal değerler kategorik sütuna atanır.\n",
        "\n"
      ],
      "metadata": {
        "id": "u3-7DI9SNq94"
      }
    },
    {
      "cell_type": "code",
      "source": [
        "# 1. Adım: Eksik 'kan_grubu' değerlerini en sık tekrar eden veriyle dolduralım\n",
        "\n",
        "# En sık geçen kan_grubu değerini bulalım\n",
        "most_frequent_kan_grubu = df['kan_grubu'].mode()[0]\n",
        "print(most_frequent_kan_grubu)\n",
        "\n",
        "\n",
        "# Eksik değerleri en sık geçen kan grubu ile dolduralım\n",
        "df['kan_grubu'].fillna(most_frequent_kan_grubu, inplace=True)\n",
        "\n",
        "# 2. Adım: Kan grubu kategorisini frequency encoding ile kodlayalım\n",
        "\n",
        "# Her kan grubu değerinin frekansını hesaplayalım\n",
        "kan_grubu_frekansi = df['kan_grubu'].value_counts(normalize=True)\n",
        "\n",
        "# Kan grubu sütununu bu frekanslarla değiştirelim\n",
        "df['kan_grubu_encoded'] = df['kan_grubu'].map(kan_grubu_frekansi)\n",
        "\n",
        "# Son durumu kontrol edelim\n",
        "# Kan grubu ve encoded değerleriyle birlikte unique değerleri görmek için\n",
        "kan_grubu_encoded_df = df[['kan_grubu', 'kan_grubu_encoded']].drop_duplicates().sort_values(by='kan_grubu_encoded', ascending=False)\n",
        "\n",
        "# Sonuçları yazdır\n",
        "print(kan_grubu_encoded_df)"
      ],
      "metadata": {
        "colab": {
          "base_uri": "https://localhost:8080/"
        },
        "id": "A4_H51c7S18H",
        "outputId": "fbce5a44-df3c-4df7-a27f-447af7f28437"
      },
      "execution_count": 33,
      "outputs": [
        {
          "output_type": "stream",
          "name": "stdout",
          "text": [
            "AB RH-\n",
            "   kan_grubu  kan_grubu_encoded\n",
            "1     AB RH-           0.325838\n",
            "19     0 RH+           0.116674\n",
            "7      B RH+           0.108613\n",
            "11    AB RH+           0.106067\n",
            "0      B RH-           0.098854\n",
            "8      0 RH-           0.098430\n",
            "35     A RH+           0.084005\n",
            "42     A RH-           0.061519\n"
          ]
        }
      ]
    },
    {
      "cell_type": "markdown",
      "source": [
        "**Kütüphane Gerektirmiyor mu?**\n",
        "Bu yöntem doğrudan pandas kütüphanesi ile yapılabilir ve herhangi bir ek kütüphane gerektirmez. value_counts() ve map() fonksiyonları pandas'ın temel fonksiyonlarındandır, bu yüzden ekstra bir kütüphaneye ihtiyaç duymazsınız.\n",
        "\n",
        "Frequency encoding gibi yöntemler genellikle sayısal bir dönüşüm gerektirdiği için pandas fonksiyonları yeterli olur."
      ],
      "metadata": {
        "id": "sIilInfOTJ8Z"
      }
    },
    {
      "cell_type": "markdown",
      "source": [
        "**Boy ve Kilo Kategorileri**\n",
        "\n",
        "Bu sayısal kategorilerdeki eksik verileri **KNNımputer** yöntemiyle ortalama değer alarak dolduracağım. Fakat işleme başlamadan önce bazı kontrolleri gerçekleştirmekte fayda var. Boy ve Kilo özellikle ilaçların yan etkileri de göz önüne alındığında zaman içerisinde değişkenlik gösterebilen değerler. Bizim veri setimizde de daha önce belirttiğimiz gibi aynı id numarasına sahip hastaların farklı tarihlerdeki verileri olduğu için null değerleri eşledikten sonra değişikliklerden kaynaklı tutarsızlıklarla karşılaşma ihtimalimizi sıfıra indirmeliyiz."
      ],
      "metadata": {
        "id": "UFLExIinbghU"
      }
    },
    {
      "cell_type": "code",
      "source": [
        "# Kilo kategorisinde null değer bulunan satırları al\n",
        "null_kilo = df[df['kilo'].isnull()]\n",
        "\n",
        "# Kullanici_id'si aynı olan ve kilo kategorisinde null olmayan satırları bul\n",
        "matching_ids = df[df['kullanici_id'].isin(null_kilo['kullanici_id']) & df['kilo'].notnull()]\n",
        "\n",
        "# Sonucu göster\n",
        "if not matching_ids.empty:\n",
        "    print(\"Kilo kategorisinde null değeri bulunan ve aynı kullanici_id'ye sahip null olmayan satırlar:\")\n",
        "    print(matching_ids[['kullanici_id', 'kilo']])\n",
        "else:\n",
        "    print(\"Kilo kategorisinde null değeri bulunan ve aynı kullanici_id'ye sahip null olmayan satır yok.\")\n"
      ],
      "metadata": {
        "colab": {
          "base_uri": "https://localhost:8080/"
        },
        "id": "L9hLlywBcnZO",
        "outputId": "8a550e17-92d6-45cc-f90b-f2a4018fddc8"
      },
      "execution_count": 35,
      "outputs": [
        {
          "output_type": "stream",
          "name": "stdout",
          "text": [
            "Kilo kategorisinde null değeri bulunan ve aynı kullanici_id'ye sahip null olmayan satır yok.\n"
          ]
        }
      ]
    },
    {
      "cell_type": "code",
      "source": [
        "# Boy kategorisinde null değer bulunan satırları al\n",
        "null_boy = df[df['boy'].isnull()]\n",
        "\n",
        "# Kullanici_id'si aynı olan ve boy kategorisinde null olmayan satırları bul\n",
        "matching_ids_boy = df[df['kullanici_id'].isin(null_boy['kullanici_id']) & df['boy'].notnull()]\n",
        "\n",
        "# Sonucu göster\n",
        "if not matching_ids_boy.empty:\n",
        "    print(\"Boy kategorisinde null değeri bulunan ve aynı kullanici_id'ye sahip null olmayan satırlar:\")\n",
        "    print(matching_ids_boy[['kullanici_id', 'boy']])\n",
        "else:\n",
        "    print(\"Boy kategorisinde null değeri bulunan ve aynı kullanici_id'ye sahip null olmayan satır yok.\")\n"
      ],
      "metadata": {
        "colab": {
          "base_uri": "https://localhost:8080/"
        },
        "id": "di-v7mAyc9IE",
        "outputId": "c2347165-cbe4-4447-9c45-46a5563f54ce"
      },
      "execution_count": 36,
      "outputs": [
        {
          "output_type": "stream",
          "name": "stdout",
          "text": [
            "Boy kategorisinde null değeri bulunan ve aynı kullanici_id'ye sahip null olmayan satır yok.\n"
          ]
        }
      ]
    },
    {
      "cell_type": "markdown",
      "source": [
        "Kontrollerimi sağladıktan sonra boş olan değerlerimi ortalama ile doldurmaya başlıyorum:"
      ],
      "metadata": {
        "id": "fYJdkF4VdFzn"
      }
    },
    {
      "cell_type": "code",
      "source": [
        "print(df.isnull().sum())\n",
        "print(df['kilo'].head(10))\n",
        "print(df['boy'].head(10))"
      ],
      "metadata": {
        "colab": {
          "base_uri": "https://localhost:8080/"
        },
        "id": "8SBNWAU2dQyY",
        "outputId": "76ea3778-1e73-45f2-d7a5-8240238ca9b0"
      },
      "execution_count": 39,
      "outputs": [
        {
          "output_type": "stream",
          "name": "stdout",
          "text": [
            "kullanici_id               0\n",
            "cinsiyet                   0\n",
            "dogum_tarihi               0\n",
            "il                         0\n",
            "ilac_adi                   0\n",
            "ilac_baslangic_tarihi      0\n",
            "ilac_bitis_tarihi          0\n",
            "yan_etki                   0\n",
            "yan_etki_bild_tar          0\n",
            "alerjilerim                0\n",
            "kronik_hastaliklarim     392\n",
            "baba_kronik_hast         156\n",
            "anne_kronik_hast         217\n",
            "kiz_kar_kronik_hast       97\n",
            "erkek_kar_kronik_hast    121\n",
            "kan_grubu                  0\n",
            "kilo                     293\n",
            "boy                      114\n",
            "ilac_adi_encoded           0\n",
            "kan_grubu_encoded          0\n",
            "dtype: int64\n",
            "0    103.0\n",
            "1     81.0\n",
            "2     93.0\n",
            "3      NaN\n",
            "4     99.0\n",
            "5     66.0\n",
            "6      NaN\n",
            "7     96.0\n",
            "8     91.0\n",
            "9    107.0\n",
            "Name: kilo, dtype: float64\n",
            "0    191.0\n",
            "1    181.0\n",
            "2    158.0\n",
            "3    165.0\n",
            "4    172.0\n",
            "5    150.0\n",
            "6    147.0\n",
            "7    162.0\n",
            "8      NaN\n",
            "9    156.0\n",
            "Name: boy, dtype: float64\n"
          ]
        }
      ]
    },
    {
      "cell_type": "code",
      "source": [
        "\n",
        "# Sadece kilo sütunu ile yeni bir DataFrame oluştur\n",
        "kilo_df = df[['kilo']]\n",
        "\n",
        "# KNNImputer nesnesini oluştur (k = 2, varsayılan olarak ortalamayı kullanır)\n",
        "imputer = KNNImputer(n_neighbors=2)\n",
        "\n",
        "# KNNImputer ile eksik kilo değerlerini doldur\n",
        "df['kilo'] = np.round(imputer.fit_transform(kilo_df)).astype(int)  # Bulunan ortalama değeri tam sayıya yuvarlıyorum\n",
        "\n",
        "# Sonucu kontrol et\n",
        "print(df['kilo'].isnull().sum(), \"adet eksik kilo değeri kaldı.\")"
      ],
      "metadata": {
        "colab": {
          "base_uri": "https://localhost:8080/"
        },
        "id": "zwvM8kTDefNu",
        "outputId": "cdf83abc-5ff1-4e9a-a70e-60c9adbcf0ee"
      },
      "execution_count": 42,
      "outputs": [
        {
          "output_type": "stream",
          "name": "stdout",
          "text": [
            "0 adet eksik kilo değeri kaldı.\n"
          ]
        }
      ]
    },
    {
      "cell_type": "code",
      "source": [
        "\n",
        "# Sadece boy sütunu ile yeni bir DataFrame oluştur\n",
        "boy_df = df[['boy']]\n",
        "\n",
        "# KNNImputer nesnesini oluştur (k = 2, varsayılan olarak ortalamayı kullanır)\n",
        "imputer = KNNImputer(n_neighbors=2)\n",
        "\n",
        "# KNNImputer ile eksik boy değerlerini doldur\n",
        "df['boy'] = np.round(imputer.fit_transform(boy_df)).astype(int)  # Bulunan ortalama değeri tam sayıya yuvarlıyorum\n",
        "\n",
        "# Sonucu kontrol et\n",
        "print(df['boy'].isnull().sum(), \"adet eksik boy değeri kaldı.\")"
      ],
      "metadata": {
        "colab": {
          "base_uri": "https://localhost:8080/"
        },
        "id": "RrLX3Wq-dzJr",
        "outputId": "806d2b33-7670-4917-a6b3-d4a7978f6863"
      },
      "execution_count": 41,
      "outputs": [
        {
          "output_type": "stream",
          "name": "stdout",
          "text": [
            "0 adet eksik boy değeri kaldı.\n"
          ]
        }
      ]
    },
    {
      "cell_type": "code",
      "source": [
        "print(df.isnull().sum())\n",
        "print(df['kilo'].head(10))\n",
        "print(df['boy'].head(10))"
      ],
      "metadata": {
        "colab": {
          "base_uri": "https://localhost:8080/"
        },
        "id": "9y_UbDqQewLi",
        "outputId": "701f405b-c0df-47ea-f680-af9753054654"
      },
      "execution_count": 43,
      "outputs": [
        {
          "output_type": "stream",
          "name": "stdout",
          "text": [
            "kullanici_id               0\n",
            "cinsiyet                   0\n",
            "dogum_tarihi               0\n",
            "il                         0\n",
            "ilac_adi                   0\n",
            "ilac_baslangic_tarihi      0\n",
            "ilac_bitis_tarihi          0\n",
            "yan_etki                   0\n",
            "yan_etki_bild_tar          0\n",
            "alerjilerim                0\n",
            "kronik_hastaliklarim     392\n",
            "baba_kronik_hast         156\n",
            "anne_kronik_hast         217\n",
            "kiz_kar_kronik_hast       97\n",
            "erkek_kar_kronik_hast    121\n",
            "kan_grubu                  0\n",
            "kilo                       0\n",
            "boy                        0\n",
            "ilac_adi_encoded           0\n",
            "kan_grubu_encoded          0\n",
            "dtype: int64\n",
            "0    103\n",
            "1     81\n",
            "2     93\n",
            "3     81\n",
            "4     99\n",
            "5     66\n",
            "6     81\n",
            "7     96\n",
            "8     91\n",
            "9    107\n",
            "Name: kilo, dtype: int64\n",
            "0    191\n",
            "1    181\n",
            "2    158\n",
            "3    165\n",
            "4    172\n",
            "5    150\n",
            "6    147\n",
            "7    162\n",
            "8    175\n",
            "9    156\n",
            "Name: boy, dtype: int64\n"
          ]
        }
      ]
    },
    {
      "cell_type": "markdown",
      "source": [
        "**Kronik Hastalıklar Kategorileri**\n",
        "\n",
        "Bu kategorilerde ön işlemeyi önem sırasına göre 2 ye ayırarak yapacağım. Benim için asıl önemli olan 1. kısım hastanın kendi kronik hastalıkları. Bu yüzden \"kronik_hastalıklarim\" kategorisindeki null değerleri doldururken daha ayrıntılı incelemeler yapacağım. 2. kısım olarak kişinin ailesindeki kronik hastalıkları ise en çok tekrarlayanlara göre dolduracağım. EDA aşamasında yaptığım analizlere burda bir yenisini eklemek istiyorum ve Kişinin üzerindeki kalıtsal hastalıklara ailesinden miras kalan hastalıkların ne kadar etki ettiğini görmek için oran analizi yapıyorum:"
      ],
      "metadata": {
        "id": "wfk56Bdqn476"
      }
    },
    {
      "cell_type": "code",
      "source": [
        "# Verileri seç\n",
        "kronik_hastaliklarim = df['kronik_hastaliklarim'].dropna().str.split(', ')\n",
        "baba_hastaliklari = df['baba_kronik_hast'].dropna().str.split(', ')\n",
        "anne_hastaliklari = df['anne_kronik_hast'].dropna().str.split(', ')\n",
        "kiz_kardes_hastaliklari = df['kiz_kar_kronik_hast'].dropna().str.split(', ')\n",
        "erkek_kardes_hastaliklari = df['erkek_kar_kronik_hast'].dropna().str.split(', ')\n",
        "\n",
        "# Kesişimlerin oranını hesapla\n",
        "def calculate_overlap_ratio(df1, df2):\n",
        "    overlap_count = 0\n",
        "    total_count = min(len(df1), len(df2))  # Her iki DataFrame'in boyutunu kontrol et\n",
        "\n",
        "    for i in range(total_count):\n",
        "        if df1.iloc[i] and df2.iloc[i]:  # Boş değilse\n",
        "            intersection = set(df1.iloc[i]).intersection(set(df2.iloc[i]))\n",
        "            if intersection:\n",
        "                overlap_count += 1\n",
        "\n",
        "    return overlap_count / total_count if total_count > 0 else 0\n",
        "\n",
        "# Oranları hesapla\n",
        "oran_baba = calculate_overlap_ratio(kronik_hastaliklarim, baba_hastaliklari)\n",
        "oran_anne = calculate_overlap_ratio(kronik_hastaliklarim, anne_hastaliklari)\n",
        "oran_kiz_kardes = calculate_overlap_ratio(kronik_hastaliklarim, kiz_kardes_hastaliklari)\n",
        "oran_erkek_kardes = calculate_overlap_ratio(kronik_hastaliklarim, erkek_kardes_hastaliklari)\n",
        "\n",
        "# Sonuçları yazdır\n",
        "print(f\"Baba Kronik Hastalıkları ile eşleşme oranı: {oran_baba:.2%}\")\n",
        "print(f\"Anne Kronik Hastalıkları ile eşleşme oranı: {oran_anne:.2%}\")\n",
        "print(f\"Kız Kardeş Kronik Hastalıkları ile eşleşme oranı: {oran_kiz_kardes:.2%}\")\n",
        "print(f\"Erkek Kardeş Kronik Hastalıkları ile eşleşme oranı: {oran_erkek_kardes:.2%}\")\n"
      ],
      "metadata": {
        "colab": {
          "base_uri": "https://localhost:8080/"
        },
        "id": "J6NFMY9IpMie",
        "outputId": "b4d69247-1061-4150-acdc-647998209944"
      },
      "execution_count": 44,
      "outputs": [
        {
          "output_type": "stream",
          "name": "stdout",
          "text": [
            "Baba Kronik Hastalıkları ile eşleşme oranı: 30.99%\n",
            "Anne Kronik Hastalıkları ile eşleşme oranı: 27.84%\n",
            "Kız Kardeş Kronik Hastalıkları ile eşleşme oranı: 27.79%\n",
            "Erkek Kardeş Kronik Hastalıkları ile eşleşme oranı: 30.03%\n"
          ]
        }
      ]
    },
    {
      "cell_type": "markdown",
      "source": [
        "Görüldüğü gibi hastanın sahip olduğu kronik hastalıkları babasından miras alma olasılığı daha yüksek gözüküyor. Bir diğer deyişle \"kronik_hastaliklarim\" kategorisindeki değerlerin \"baba_kronik_hast\" kategorisindeki değerlerle benzeşme oranı daha yüksek. Bu yüzden aşağıda yazacağım koddan beklentilerim şunlar olacak: kronik_hastaliklarim kategorisinin null olan her değerine, o değerin bulunduğu satırdaki baba_kronik_hast kategorisinin içerisinde bulunan değer yazılsın. Eğer o değerin bulunduğu satırdaki baba_kronik_hast kategorisinin içerisinde bulunan değer de null ise o zaman \"Hipertansiyon, Kan Hastaliklari\" yazılsın. Bunu yapmamızın sebebi de EDA aşamasındaki grafikte en yüksek oranın birlikte bu 2 değerde gözükmesiydi.\n"
      ],
      "metadata": {
        "id": "9msL-CfCpQ42"
      }
    },
    {
      "cell_type": "code",
      "source": [
        "\n",
        "# Kronik hastalıklar için null değerleri doldur\n",
        "def fill_kronik_hastaliklarim(row):\n",
        "    if pd.isnull(row['kronik_hastaliklarim']):\n",
        "        # Baba hastalıklarını kontrol et\n",
        "        if pd.notnull(row['baba_kronik_hast']):\n",
        "            return row['baba_kronik_hast']\n",
        "        else:\n",
        "            return \"Hipertansiyon, Kan Hastaliklari\"\n",
        "    return row['kronik_hastaliklarim']\n",
        "\n",
        "# Değer ataması yaparken kullanici_id'ye göre güncelleme\n",
        "df['kronik_hastaliklarim'] = df.apply(fill_kronik_hastaliklarim, axis=1)\n",
        "\n",
        "# Aynı kullanici_id'ye sahip satırlarda güncellemeleri yap\n",
        "df['kronik_hastaliklarim'] = df.groupby('kullanici_id')['kronik_hastaliklarim'].transform(lambda x: x.ffill().bfill())\n",
        "\n",
        "# Orijinal veri setiyle karşılaştırma için\n",
        "# Son durumu kontrol et\n",
        "print(veri[['Kullanici_id', 'Kronik Hastaliklarim', 'Baba Kronik Hastaliklari']].head())\n",
        "print(df[['kullanici_id', 'kronik_hastaliklarim', 'baba_kronik_hast']].head())\n",
        "\n"
      ],
      "metadata": {
        "colab": {
          "base_uri": "https://localhost:8080/"
        },
        "id": "kapbAwdqqFJL",
        "outputId": "16d24e2b-555d-4434-d597-f5cd6833ffab"
      },
      "execution_count": 48,
      "outputs": [
        {
          "output_type": "stream",
          "name": "stdout",
          "text": [
            "   Kullanici_id             Kronik Hastaliklarim  Baba Kronik Hastaliklari\n",
            "0           107  Hipertansiyon, Kan Hastaliklari      Guatr, Hipertansiyon\n",
            "1           140                              NaN              Guatr, Diger\n",
            "2             2       Kalp Hastaliklari, Diyabet             Diyabet, KOAH\n",
            "3            83                   Diyabet, Diger  Kalp Hastaliklari, Diger\n",
            "4             7       Diyabet, Kalp Hastaliklari  Alzheimer, Hipertansiyon\n",
            "   kullanici_id             kronik_hastaliklarim          baba_kronik_hast\n",
            "0           107  Hipertansiyon, Kan Hastaliklari      Guatr, Hipertansiyon\n",
            "1           140                     Guatr, Diger              Guatr, Diger\n",
            "2             2       Kalp Hastaliklari, Diyabet             Diyabet, KOAH\n",
            "3            83                   Diyabet, Diger  Kalp Hastaliklari, Diger\n",
            "4             7       Diyabet, Kalp Hastaliklari  Alzheimer, Hipertansiyon\n"
          ]
        }
      ]
    },
    {
      "cell_type": "markdown",
      "source": [
        "Görüldüğü üzere 1. satırdaki NaN değeri baba kronik hastalıklarının aynılarıyla doldurulmuş. (Guatr, Diger) Şimdi hala null değerler bulunan son 4 kategorimizdeki değerleri de giderelim:"
      ],
      "metadata": {
        "id": "L7dbujFrq1Ft"
      }
    },
    {
      "cell_type": "code",
      "source": [
        "# Null değerleri doldurmak için en çok tekrar eden değerleri bul\n",
        "most_frequent_value = df['baba_kronik_hast'].mode()[0]\n",
        "\n",
        "# Null değerleri doldur\n",
        "df['baba_kronik_hast'] = df['baba_kronik_hast'].fillna(most_frequent_value)\n",
        "\n",
        "# Kullanici_id kontrolü ile değerleri güncelle\n",
        "for index, row in df.iterrows():\n",
        "    if pd.notnull(row['baba_kronik_hast']):\n",
        "        # İlgili kullanici_id'ye göre güncelle\n",
        "        df.loc[df['kullanici_id'] == row['kullanici_id'], 'baba_kronik_hast'] = row['baba_kronik_hast']\n",
        "\n",
        "\n",
        "# Null değerleri doldurmak için en çok tekrar eden değerleri bul\n",
        "most_frequent_value = df['anne_kronik_hast'].mode()[0]\n",
        "\n",
        "# Null değerleri doldur\n",
        "df['anne_kronik_hast'] = df['anne_kronik_hast'].fillna(most_frequent_value)\n",
        "\n",
        "# Kullanici_id kontrolü ile değerleri güncelle\n",
        "for index, row in df.iterrows():\n",
        "    if pd.notnull(row['anne_kronik_hast']):\n",
        "        # İlgili kullanici_id'ye göre güncelle\n",
        "        df.loc[df['kullanici_id'] == row['kullanici_id'], 'anne_kronik_hast'] = row['anne_kronik_hast']\n",
        "\n",
        "\n",
        "# Null değerleri doldurmak için en çok tekrar eden değerleri bul\n",
        "most_frequent_value = df['kiz_kar_kronik_hast'].mode()[0]\n",
        "\n",
        "# Null değerleri doldur\n",
        "df['kiz_kar_kronik_hast'] = df['kiz_kar_kronik_hast'].fillna(most_frequent_value)\n",
        "\n",
        "# Kullanici_id kontrolü ile değerleri güncelle\n",
        "for index, row in df.iterrows():\n",
        "    if pd.notnull(row['kiz_kar_kronik_hast']):\n",
        "        # İlgili kullanici_id'ye göre güncelle\n",
        "        df.loc[df['kullanici_id'] == row['kullanici_id'], 'kiz_kar_kronik_hast'] = row['kiz_kar_kronik_hast']\n",
        "\n",
        "\n",
        "# Null değerleri doldurmak için en çok tekrar eden değerleri bul\n",
        "most_frequent_value = df['erkek_kar_kronik_hast'].mode()[0]\n",
        "\n",
        "# Null değerleri doldur\n",
        "df['erkek_kar_kronik_hast'] = df['erkek_kar_kronik_hast'].fillna(most_frequent_value)\n",
        "\n",
        "# Kullanici_id kontrolü ile değerleri güncelle\n",
        "for index, row in df.iterrows():\n",
        "    if pd.notnull(row['erkek_kar_kronik_hast']):\n",
        "        # İlgili kullanici_id'ye göre güncelle\n",
        "        df.loc[df['kullanici_id'] == row['kullanici_id'], 'erkek_kar_kronik_hast'] = row['erkek_kar_kronik_hast']\n",
        "\n",
        "# Son durumu kontrol et\n",
        "print(df.isnull().sum())"
      ],
      "metadata": {
        "colab": {
          "base_uri": "https://localhost:8080/"
        },
        "id": "7rG7GpTqrWiy",
        "outputId": "110bb74e-32e9-43ed-800a-873c57fd7690"
      },
      "execution_count": 49,
      "outputs": [
        {
          "output_type": "stream",
          "name": "stdout",
          "text": [
            "kullanici_id             0\n",
            "cinsiyet                 0\n",
            "dogum_tarihi             0\n",
            "il                       0\n",
            "ilac_adi                 0\n",
            "ilac_baslangic_tarihi    0\n",
            "ilac_bitis_tarihi        0\n",
            "yan_etki                 0\n",
            "yan_etki_bild_tar        0\n",
            "alerjilerim              0\n",
            "kronik_hastaliklarim     0\n",
            "baba_kronik_hast         0\n",
            "anne_kronik_hast         0\n",
            "kiz_kar_kronik_hast      0\n",
            "erkek_kar_kronik_hast    0\n",
            "kan_grubu                0\n",
            "kilo                     0\n",
            "boy                      0\n",
            "ilac_adi_encoded         0\n",
            "kan_grubu_encoded        0\n",
            "dtype: int64\n"
          ]
        }
      ]
    },
    {
      "cell_type": "markdown",
      "source": [
        "Görüldüğü gibi bu aşamayla beraber veri setimizde hiçbir null değişken kalmadı. Artık son birkaç kontrolden sonra veri setimiz modellemeye hazır demektir."
      ],
      "metadata": {
        "id": "Oe9q8_TaxcPA"
      }
    },
    {
      "cell_type": "code",
      "source": [
        "# Kontrol edilecek sütunlar\n",
        "kontrol_sutunlari = ['kronik_hastaliklarim']\n",
        "\n",
        "for sutun in kontrol_sutunlari:\n",
        "    # Kullanici_id'si aynı olan kayıtları gruplandır\n",
        "    kontrol = df.groupby('kullanici_id')[sutun].nunique()\n",
        "\n",
        "    # Farklı değer sayısı 1 olanları al\n",
        "    farkli_degerler = kontrol[kontrol > 1]\n",
        "\n",
        "    # Sonuçları göster\n",
        "    if not farkli_degerler.empty:\n",
        "        print(f\"Aynı Kullanici_id'ye sahip, farklı {sutun} bilgileri bulunan kayıtlar var:\")\n",
        "        print(farkli_degerler)\n",
        "        print(f\"Farklı sonuç sayısı: {len(farkli_degerler)}\")  # Farklı sonuç sayısını göster\n",
        "    else:\n",
        "        print(f\"Tüm Kullanici_id'leri için {sutun} bilgileri aynı.\")\n",
        "\n",
        "# Farklı cinsiyet bilgileri bulunan kullanıcı ID'leri\n",
        "for kullanici_id in farkli_degerler.index:\n",
        "    # Aynı kullanıcı ID'sine sahip kayıtları al\n",
        "    hastalik_bilgileri = df[df['kullanici_id'] == kullanici_id][['kullanici_id', 'baba_kronik_hast']]\n",
        "    print(f\"{kullanici_id} için cinsiyet bilgileri:\")\n",
        "    print(hastalik_bilgileri)\n",
        "    print()  # Yeni bir satır ekle\n"
      ],
      "metadata": {
        "colab": {
          "base_uri": "https://localhost:8080/"
        },
        "id": "GbI9XA_QxnIV",
        "outputId": "13973b22-0450-48d5-eee7-ac19dc830097"
      },
      "execution_count": 52,
      "outputs": [
        {
          "output_type": "stream",
          "name": "stdout",
          "text": [
            "Tüm Kullanici_id'leri için kronik_hastaliklarim bilgileri aynı.\n"
          ]
        }
      ]
    },
    {
      "cell_type": "code",
      "source": [
        "# Null değerlerin yüzdesini hesapla\n",
        "null_percentages = veri.isnull().mean() * 100\n",
        "\n",
        "# Sadece null değer içeren kategorileri filtrele\n",
        "null_percentages = null_percentages[null_percentages > 0]\n",
        "\n",
        "# Pasta grafiği oluştur\n",
        "plt.figure(figsize=(10, 7))\n",
        "plt.pie(null_percentages, labels=null_percentages.index, autopct='%1.1f%%', startangle=140, textprops={'fontsize': 12})\n",
        "plt.title('Null Değer Yüzdeleri (Sadece Null Olan Kategoriler)', fontsize=14)\n",
        "plt.axis('equal')  # Eşit eksen oranı için\n",
        "plt.show()\n"
      ],
      "metadata": {
        "colab": {
          "base_uri": "https://localhost:8080/",
          "height": 605
        },
        "id": "xBGMjX_PzDyt",
        "outputId": "d72e5ab2-87ad-45f9-87f8-879d8cfe32d4"
      },
      "execution_count": 65,
      "outputs": [
        {
          "output_type": "display_data",
          "data": {
            "text/plain": [
              "<Figure size 1000x700 with 1 Axes>"
            ],
            "image/png": "[encoded data removed]"
          },
          "metadata": {}
        }
      ]
    },
    {
      "cell_type": "markdown",
      "source": [
        "İşte bu pasta dilimi grafiği başlangıçta veri setimizde hangi kategoride yüzde kaç null değer olduğunu gösteriyor. Adım adım kategorilerdeki null değerleri gereken yerde mantıksal olarak analizlere dayanarak, bazı yerlerde ise en çok tekrar eden ya da ortalama değer gibi referanslarla doldurdum ve tutarsızlıkları da ortadan kaldırarak veri setimizi modellemeye hazır hale getirdim."
      ],
      "metadata": {
        "id": "s5H8bb3U0hr_"
      }
    },
    {
      "cell_type": "markdown",
      "source": [
        "---\n",
        "\n",
        "## Kaynaklar\n",
        "\n",
        "- [Pandas Documentation](https://pandas.pydata.org/pandas-docs/stable/)\n",
        "- [Seaborn Documentation](https://seaborn.pydata.org/)\n",
        "- J. VanderPlas, *Python Data Science Handbook*, O'Reilly Media, 2016\n",
        "- A. Müller & S. Guido, *Introduction to Machine Learning with Python*, O'Reilly Media, 2016\n",
        "- https://www.kaggle.com/\n",
        "- https://medium.com/global-ai-hub\n",
        "\n",
        "\n",
        "---\n"
      ],
      "metadata": {
        "id": "SVWRwhoc1TSg"
      }
    }
  ]
}